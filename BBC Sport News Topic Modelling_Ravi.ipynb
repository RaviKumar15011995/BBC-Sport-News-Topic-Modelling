{
 "cells": [
  {
   "cell_type": "code",
   "execution_count": 1,
   "metadata": {},
   "outputs": [],
   "source": [
    "import pandas as pd\n",
    "import numpy as np\n",
    "import nltk\n",
    "import spacy\n",
    "import os,re\n",
    "import matplotlib.pyplot as plt\n",
    "import seaborn as sns"
   ]
  },
  {
   "cell_type": "code",
   "execution_count": 2,
   "metadata": {},
   "outputs": [],
   "source": [
    "pd.set_option(\"display.max_colwidth\",200)"
   ]
  },
  {
   "cell_type": "code",
   "execution_count": 5,
   "metadata": {},
   "outputs": [],
   "source": [
    "inpdir=r'D:\\NLP\\Analytics Vidhya\\bbcsports\\bbc_sports_articles'"
   ]
  },
  {
   "cell_type": "code",
   "execution_count": 6,
   "metadata": {},
   "outputs": [],
   "source": [
    "articles=[]"
   ]
  },
  {
   "cell_type": "code",
   "execution_count": 7,
   "metadata": {},
   "outputs": [],
   "source": [
    "for folder,subfolder,files in os.walk(inpdir):\n",
    "    for file in files:\n",
    "        f = os.path.join(folder,file)\n",
    "        f=open(f,\"r\",encoding=\"utf-8\")\n",
    "        text=f.read()\n",
    "        articles.append(text)\n",
    "        "
   ]
  },
  {
   "cell_type": "code",
   "execution_count": 8,
   "metadata": {},
   "outputs": [
    {
     "data": {
      "text/plain": [
       "471"
      ]
     },
     "execution_count": 8,
     "metadata": {},
     "output_type": "execute_result"
    }
   ],
   "source": [
    "len(articles)"
   ]
  },
  {
   "cell_type": "code",
   "execution_count": 9,
   "metadata": {},
   "outputs": [
    {
     "data": {
      "text/plain": [
       "'Holmes is hit by hamstring injury\\n\\nKelly Holmes has been forced out of this weekend\\'s European Indoor Athletics Championships after picking up a hamstring injury during training.\\n\\nThe double Olympic champion said: \"I am very disappointed that I have been forced to withdraw. \"I can hardly walk at the moment and I won\\'t be able to do any running for two or three weeks although I\\'ll be keeping fit as best I can.\" Holmes will have now have intensive treatment in South Africa.\\n\\nThe 34-year-old made a cautious start to the season but looked back to her best when she stormed to the 1,000m title at the Birmingham Grand Prix 10 days ago. After that race and more progress in training, Holmes revealed she had decided to compete at the European Indoors before her plans were wrecked last weekend. \"On Saturday night I pulled my hamstring running the last bend on my final 200m of the night,\" said Holmes. \"I was going really, really well when I felt a massive spasm in my left leg and my hamstring blew. \"I saw the doctor here and he has said it is not serious but it\\'s frustrating missing Madrid when I knew I was in great shape.\" Holmes has now been advised by her coach Margot Jennings not to rush back into training and it is unlikely she will compete again until the summer. Helen Clitheroe now goes to Madrid as the only British competitor in the women\\'s 1500m while there will be no representative in the 800m.\\n'"
      ]
     },
     "execution_count": 9,
     "metadata": {},
     "output_type": "execute_result"
    }
   ],
   "source": [
    "articles[54]"
   ]
  },
  {
   "cell_type": "code",
   "execution_count": 10,
   "metadata": {},
   "outputs": [],
   "source": [
    "clean_article=[]"
   ]
  },
  {
   "cell_type": "code",
   "execution_count": 11,
   "metadata": {},
   "outputs": [],
   "source": [
    "clean_article = [re.sub('[^a-zA-Z]',' ',i)for i in articles]\n"
   ]
  },
  {
   "cell_type": "code",
   "execution_count": 12,
   "metadata": {},
   "outputs": [
    {
     "data": {
      "text/plain": [
       "'Holmes is hit by hamstring injury  Kelly Holmes has been forced out of this weekend s European Indoor Athletics Championships after picking up a hamstring injury during training   The double Olympic champion said   I am very disappointed that I have been forced to withdraw   I can hardly walk at the moment and I won t be able to do any running for two or three weeks although I ll be keeping fit as best I can   Holmes will have now have intensive treatment in South Africa   The    year old made a cautious start to the season but looked back to her best when she stormed to the      m title at the Birmingham Grand Prix    days ago  After that race and more progress in training  Holmes revealed she had decided to compete at the European Indoors before her plans were wrecked last weekend   On Saturday night I pulled my hamstring running the last bend on my final    m of the night   said Holmes   I was going really  really well when I felt a massive spasm in my left leg and my hamstring blew   I saw the doctor here and he has said it is not serious but it s frustrating missing Madrid when I knew I was in great shape   Holmes has now been advised by her coach Margot Jennings not to rush back into training and it is unlikely she will compete again until the summer  Helen Clitheroe now goes to Madrid as the only British competitor in the women s     m while there will be no representative in the    m  '"
      ]
     },
     "execution_count": 12,
     "metadata": {},
     "output_type": "execute_result"
    }
   ],
   "source": [
    "clean_article[54]"
   ]
  },
  {
   "cell_type": "code",
   "execution_count": 13,
   "metadata": {},
   "outputs": [],
   "source": [
    "clean_article =[ \" \".join([w for w in word.split() if len(w)>1]) for word in clean_article]"
   ]
  },
  {
   "cell_type": "code",
   "execution_count": 14,
   "metadata": {},
   "outputs": [
    {
     "data": {
      "text/plain": [
       "'Holmes starts with GB events Kelly Holmes will start with series of races in Britain Holmes will make her first track appearance on home soil since winning double Olympic gold in January Norwich Union International in Glasgow She will also run in the Grand Prix in Birmingham in February and may defend her indoor AAA title in Sheffield earlier that month am still competitive and still want to win she said an athlete and can wait to get back on the track She added These events are also great opportunity to thank the British public for the enormous levels of support they have given me from the moment stepped off that plane from Greece The Glasgow meeting will see Holmes compete over in five way match against Sweden France Russia and Italy'"
      ]
     },
     "execution_count": 14,
     "metadata": {},
     "output_type": "execute_result"
    }
   ],
   "source": [
    "clean_article[51]"
   ]
  },
  {
   "cell_type": "code",
   "execution_count": 15,
   "metadata": {},
   "outputs": [],
   "source": [
    "clean_article=[i.lower() for i in clean_article]"
   ]
  },
  {
   "cell_type": "code",
   "execution_count": 16,
   "metadata": {},
   "outputs": [
    {
     "data": {
      "text/plain": [
       "'holmes is hit by hamstring injury kelly holmes has been forced out of this weekend european indoor athletics championships after picking up hamstring injury during training the double olympic champion said am very disappointed that have been forced to withdraw can hardly walk at the moment and won be able to do any running for two or three weeks although ll be keeping fit as best can holmes will have now have intensive treatment in south africa the year old made cautious start to the season but looked back to her best when she stormed to the title at the birmingham grand prix days ago after that race and more progress in training holmes revealed she had decided to compete at the european indoors before her plans were wrecked last weekend on saturday night pulled my hamstring running the last bend on my final of the night said holmes was going really really well when felt massive spasm in my left leg and my hamstring blew saw the doctor here and he has said it is not serious but it frustrating missing madrid when knew was in great shape holmes has now been advised by her coach margot jennings not to rush back into training and it is unlikely she will compete again until the summer helen clitheroe now goes to madrid as the only british competitor in the women while there will be no representative in the'"
      ]
     },
     "execution_count": 16,
     "metadata": {},
     "output_type": "execute_result"
    }
   ],
   "source": [
    "clean_article[54]"
   ]
  },
  {
   "cell_type": "code",
   "execution_count": 17,
   "metadata": {},
   "outputs": [],
   "source": [
    "def freq_words(x,terms=30):\n",
    "    text=' '.join([text for text in x])\n",
    "    all_words = text.split()\n",
    "    fdist = nltk.FreqDist(all_words)\n",
    "    words_df = pd.DataFrame({'word':list(fdist.keys()),'count':list(fdist.values())})\n",
    "    d = words_df.nlargest(columns='count',n=terms)\n",
    "    \n",
    "    plt.figure(figsize=(20,6))\n",
    "    ax=sns.barplot(data=d,x='word',y='count')\n",
    "    ax.plot()"
   ]
  },
  {
   "cell_type": "code",
   "execution_count": 18,
   "metadata": {},
   "outputs": [
    {
     "data": {
      "image/png": "[encoded data removed]",
      "text/plain": [
       "<Figure size 1440x432 with 1 Axes>"
      ]
     },
     "metadata": {
      "needs_background": "light"
     },
     "output_type": "display_data"
    }
   ],
   "source": [
    "freq_words(clean_article)"
   ]
  },
  {
   "cell_type": "code",
   "execution_count": 19,
   "metadata": {},
   "outputs": [],
   "source": [
    "nlp = spacy.load('en_core_web_sm')"
   ]
  },
  {
   "cell_type": "code",
   "execution_count": 20,
   "metadata": {},
   "outputs": [],
   "source": [
    "clean_article = [ ' '.join([token.lemma_ for token in nlp(text)]) for text in clean_article]"
   ]
  },
  {
   "cell_type": "code",
   "execution_count": 21,
   "metadata": {},
   "outputs": [],
   "source": [
    "clean_article = [' '.join([w for w in x.split() if nlp.vocab[w].is_stop==False]) for x in clean_article]"
   ]
  },
  {
   "cell_type": "code",
   "execution_count": 22,
   "metadata": {},
   "outputs": [
    {
     "data": {
      "text/plain": [
       "'iaaf rule greek sprint pair greek sprinter kostas kenteris katerina thanou expect find wednesday -PRON- ban miss drug test summer international association athletics federations iaaf council hold conference tuesday set announce -PRON- decision kenteris thanou suspend year duo withdraw olympics miss test claim -PRON- suffer motorcycle crash greek authority bring criminal charge sprinter avoid drug test fake accident -PRON- coach christos tzekos face charge await trial date iaaf determine sprinter future track carefully consider evidence sport rule body expect direct greek federation action -PRON- sprinters kenteris thanou appeal decision court arbitration sport sprinter send write explanation iaaf account iaaf send official warning sprinter coach tzekos -PRON- discover training qatar crete -PRON- -PRON- kenteris thanou skip test tel aviv chicago -PRON- decide fly greece early olympics pair dramatically miss test athens withdraw games kenteris win gold sydney olympics thanou win silver'"
      ]
     },
     "execution_count": 22,
     "metadata": {},
     "output_type": "execute_result"
    }
   ],
   "source": [
    "clean_article[50]"
   ]
  },
  {
   "cell_type": "code",
   "execution_count": 23,
   "metadata": {},
   "outputs": [
    {
     "data": {
      "image/png": "[encoded data removed]",
      "text/plain": [
       "<Figure size 1440x432 with 1 Axes>"
      ]
     },
     "metadata": {
      "needs_background": "light"
     },
     "output_type": "display_data"
    }
   ],
   "source": [
    "freq_words(clean_article,30)"
   ]
  },
  {
   "cell_type": "code",
   "execution_count": 24,
   "metadata": {},
   "outputs": [],
   "source": [
    "clean_article=[re.sub('-PRON-',' ',i) for i in clean_article]"
   ]
  },
  {
   "cell_type": "code",
   "execution_count": 25,
   "metadata": {},
   "outputs": [
    {
     "data": {
      "text/plain": [
       "'claxton hunt major medal british hurdler sarah claxton confident   win   major medal month european indoor championships madrid year old smash british record hurdle twice season set new mark second win aaas title confident claxton race   come long   training think chance medal claxton win national hurdles title past year struggle translate   domestic success international stage scotland bear athlete equal fifth fast time world year week birmingham grand prix claxton leave european medal favourite russian irina shevchenko trail sixth spot time claxton prepare campaign hurdle explain   leap form previous season year old contest long jump colchester london   focus   attention claxton   new training regime pay dividend european indoor place march'"
      ]
     },
     "execution_count": 25,
     "metadata": {},
     "output_type": "execute_result"
    }
   ],
   "source": [
    "clean_article[0]"
   ]
  },
  {
   "cell_type": "code",
   "execution_count": 26,
   "metadata": {},
   "outputs": [
    {
     "data": {
      "image/png": "[encoded data removed]",
      "text/plain": [
       "<Figure size 1440x432 with 1 Axes>"
      ]
     },
     "metadata": {
      "needs_background": "light"
     },
     "output_type": "display_data"
    }
   ],
   "source": [
    "freq_words(clean_article,terms=30)"
   ]
  },
  {
   "cell_type": "code",
   "execution_count": 27,
   "metadata": {},
   "outputs": [],
   "source": [
    "def get_words(x):\n",
    "  # combine all the articles  \n",
    "  text = ' '.join([text for text in x])\n",
    "  # split text into words   \n",
    "  return set(text.split())"
   ]
  },
  {
   "cell_type": "code",
   "execution_count": 28,
   "metadata": {},
   "outputs": [
    {
     "data": {
      "text/plain": [
       "7773"
      ]
     },
     "execution_count": 28,
     "metadata": {},
     "output_type": "execute_result"
    }
   ],
   "source": [
    "# get unique words in the articles\n",
    "unique_words = get_words(clean_article)\n",
    "\n",
    "# count of unique words\n",
    "len(unique_words)"
   ]
  },
  {
   "cell_type": "code",
   "execution_count": 29,
   "metadata": {},
   "outputs": [],
   "source": [
    "from sklearn.feature_extraction.text import TfidfVectorizer"
   ]
  },
  {
   "cell_type": "code",
   "execution_count": 30,
   "metadata": {},
   "outputs": [
    {
     "data": {
      "text/plain": [
       "(471, 7773)"
      ]
     },
     "execution_count": 30,
     "metadata": {},
     "output_type": "execute_result"
    }
   ],
   "source": [
    "vectorizer = TfidfVectorizer()\n",
    "    \n",
    "X = vectorizer.fit_transform(clean_article)\n",
    "\n",
    "X.shape"
   ]
  },
  {
   "cell_type": "code",
   "execution_count": 31,
   "metadata": {},
   "outputs": [
    {
     "data": {
      "text/plain": [
       "<471x7773 sparse matrix of type '<class 'numpy.float64'>'\n",
       "\twith 54642 stored elements in Compressed Sparse Row format>"
      ]
     },
     "execution_count": 31,
     "metadata": {},
     "output_type": "execute_result"
    }
   ],
   "source": [
    "X"
   ]
  },
  {
   "cell_type": "code",
   "execution_count": 32,
   "metadata": {},
   "outputs": [],
   "source": [
    "X_df=pd.DataFrame.sparse.from_spmatrix(X,columns=vectorizer.get_feature_names(),index=range(len(clean_article)))"
   ]
  },
  {
   "cell_type": "code",
   "execution_count": 33,
   "metadata": {},
   "outputs": [
    {
     "data": {
      "text/html": [
       "<div>\n",
       "<style scoped>\n",
       "    .dataframe tbody tr th:only-of-type {\n",
       "        vertical-align: middle;\n",
       "    }\n",
       "\n",
       "    .dataframe tbody tr th {\n",
       "        vertical-align: top;\n",
       "    }\n",
       "\n",
       "    .dataframe thead th {\n",
       "        text-align: right;\n",
       "    }\n",
       "</style>\n",
       "<table border=\"1\" class=\"dataframe\">\n",
       "  <thead>\n",
       "    <tr style=\"text-align: right;\">\n",
       "      <th></th>\n",
       "      <th>century</th>\n",
       "      <th>ceplak</th>\n",
       "      <th>ceremony</th>\n",
       "      <th>ceri</th>\n",
       "      <th>certain</th>\n",
       "      <th>certainly</th>\n",
       "      <th>certainty</th>\n",
       "      <th>chabal</th>\n",
       "      <th>chair</th>\n",
       "      <th>chairman</th>\n",
       "      <th>...</th>\n",
       "      <th>christmas</th>\n",
       "      <th>christophe</th>\n",
       "      <th>christopher</th>\n",
       "      <th>christos</th>\n",
       "      <th>chronicle</th>\n",
       "      <th>chuck</th>\n",
       "      <th>chuckle</th>\n",
       "      <th>chunk</th>\n",
       "      <th>churlishly</th>\n",
       "      <th>chuter</th>\n",
       "    </tr>\n",
       "  </thead>\n",
       "  <tbody>\n",
       "    <tr>\n",
       "      <th>0</th>\n",
       "      <td>0.0</td>\n",
       "      <td>0.000000</td>\n",
       "      <td>0.0</td>\n",
       "      <td>0.0</td>\n",
       "      <td>0.0</td>\n",
       "      <td>0.0</td>\n",
       "      <td>0.0</td>\n",
       "      <td>0.0</td>\n",
       "      <td>0.0</td>\n",
       "      <td>0.0</td>\n",
       "      <td>...</td>\n",
       "      <td>0.0</td>\n",
       "      <td>0.0</td>\n",
       "      <td>0.0</td>\n",
       "      <td>0.0</td>\n",
       "      <td>0.0</td>\n",
       "      <td>0.0</td>\n",
       "      <td>0.0</td>\n",
       "      <td>0.0</td>\n",
       "      <td>0.0</td>\n",
       "      <td>0.0</td>\n",
       "    </tr>\n",
       "    <tr>\n",
       "      <th>1</th>\n",
       "      <td>0.0</td>\n",
       "      <td>0.000000</td>\n",
       "      <td>0.0</td>\n",
       "      <td>0.0</td>\n",
       "      <td>0.0</td>\n",
       "      <td>0.0</td>\n",
       "      <td>0.0</td>\n",
       "      <td>0.0</td>\n",
       "      <td>0.0</td>\n",
       "      <td>0.0</td>\n",
       "      <td>...</td>\n",
       "      <td>0.0</td>\n",
       "      <td>0.0</td>\n",
       "      <td>0.0</td>\n",
       "      <td>0.0</td>\n",
       "      <td>0.0</td>\n",
       "      <td>0.0</td>\n",
       "      <td>0.0</td>\n",
       "      <td>0.0</td>\n",
       "      <td>0.0</td>\n",
       "      <td>0.0</td>\n",
       "    </tr>\n",
       "    <tr>\n",
       "      <th>2</th>\n",
       "      <td>0.0</td>\n",
       "      <td>0.000000</td>\n",
       "      <td>0.0</td>\n",
       "      <td>0.0</td>\n",
       "      <td>0.0</td>\n",
       "      <td>0.0</td>\n",
       "      <td>0.0</td>\n",
       "      <td>0.0</td>\n",
       "      <td>0.0</td>\n",
       "      <td>0.0</td>\n",
       "      <td>...</td>\n",
       "      <td>0.0</td>\n",
       "      <td>0.0</td>\n",
       "      <td>0.0</td>\n",
       "      <td>0.0</td>\n",
       "      <td>0.0</td>\n",
       "      <td>0.0</td>\n",
       "      <td>0.0</td>\n",
       "      <td>0.0</td>\n",
       "      <td>0.0</td>\n",
       "      <td>0.0</td>\n",
       "    </tr>\n",
       "    <tr>\n",
       "      <th>3</th>\n",
       "      <td>0.0</td>\n",
       "      <td>0.000000</td>\n",
       "      <td>0.0</td>\n",
       "      <td>0.0</td>\n",
       "      <td>0.0</td>\n",
       "      <td>0.0</td>\n",
       "      <td>0.0</td>\n",
       "      <td>0.0</td>\n",
       "      <td>0.0</td>\n",
       "      <td>0.0</td>\n",
       "      <td>...</td>\n",
       "      <td>0.0</td>\n",
       "      <td>0.0</td>\n",
       "      <td>0.0</td>\n",
       "      <td>0.0</td>\n",
       "      <td>0.0</td>\n",
       "      <td>0.0</td>\n",
       "      <td>0.0</td>\n",
       "      <td>0.0</td>\n",
       "      <td>0.0</td>\n",
       "      <td>0.0</td>\n",
       "    </tr>\n",
       "    <tr>\n",
       "      <th>4</th>\n",
       "      <td>0.0</td>\n",
       "      <td>0.259386</td>\n",
       "      <td>0.0</td>\n",
       "      <td>0.0</td>\n",
       "      <td>0.0</td>\n",
       "      <td>0.0</td>\n",
       "      <td>0.0</td>\n",
       "      <td>0.0</td>\n",
       "      <td>0.0</td>\n",
       "      <td>0.0</td>\n",
       "      <td>...</td>\n",
       "      <td>0.0</td>\n",
       "      <td>0.0</td>\n",
       "      <td>0.0</td>\n",
       "      <td>0.0</td>\n",
       "      <td>0.0</td>\n",
       "      <td>0.0</td>\n",
       "      <td>0.0</td>\n",
       "      <td>0.0</td>\n",
       "      <td>0.0</td>\n",
       "      <td>0.0</td>\n",
       "    </tr>\n",
       "    <tr>\n",
       "      <th>5</th>\n",
       "      <td>0.0</td>\n",
       "      <td>0.000000</td>\n",
       "      <td>0.0</td>\n",
       "      <td>0.0</td>\n",
       "      <td>0.0</td>\n",
       "      <td>0.0</td>\n",
       "      <td>0.0</td>\n",
       "      <td>0.0</td>\n",
       "      <td>0.0</td>\n",
       "      <td>0.0</td>\n",
       "      <td>...</td>\n",
       "      <td>0.0</td>\n",
       "      <td>0.0</td>\n",
       "      <td>0.0</td>\n",
       "      <td>0.0</td>\n",
       "      <td>0.0</td>\n",
       "      <td>0.0</td>\n",
       "      <td>0.0</td>\n",
       "      <td>0.0</td>\n",
       "      <td>0.0</td>\n",
       "      <td>0.0</td>\n",
       "    </tr>\n",
       "    <tr>\n",
       "      <th>6</th>\n",
       "      <td>0.0</td>\n",
       "      <td>0.000000</td>\n",
       "      <td>0.0</td>\n",
       "      <td>0.0</td>\n",
       "      <td>0.0</td>\n",
       "      <td>0.0</td>\n",
       "      <td>0.0</td>\n",
       "      <td>0.0</td>\n",
       "      <td>0.0</td>\n",
       "      <td>0.0</td>\n",
       "      <td>...</td>\n",
       "      <td>0.0</td>\n",
       "      <td>0.0</td>\n",
       "      <td>0.0</td>\n",
       "      <td>0.0</td>\n",
       "      <td>0.0</td>\n",
       "      <td>0.0</td>\n",
       "      <td>0.0</td>\n",
       "      <td>0.0</td>\n",
       "      <td>0.0</td>\n",
       "      <td>0.0</td>\n",
       "    </tr>\n",
       "    <tr>\n",
       "      <th>7</th>\n",
       "      <td>0.0</td>\n",
       "      <td>0.000000</td>\n",
       "      <td>0.0</td>\n",
       "      <td>0.0</td>\n",
       "      <td>0.0</td>\n",
       "      <td>0.0</td>\n",
       "      <td>0.0</td>\n",
       "      <td>0.0</td>\n",
       "      <td>0.0</td>\n",
       "      <td>0.0</td>\n",
       "      <td>...</td>\n",
       "      <td>0.0</td>\n",
       "      <td>0.0</td>\n",
       "      <td>0.0</td>\n",
       "      <td>0.0</td>\n",
       "      <td>0.0</td>\n",
       "      <td>0.0</td>\n",
       "      <td>0.0</td>\n",
       "      <td>0.0</td>\n",
       "      <td>0.0</td>\n",
       "      <td>0.0</td>\n",
       "    </tr>\n",
       "    <tr>\n",
       "      <th>8</th>\n",
       "      <td>0.0</td>\n",
       "      <td>0.000000</td>\n",
       "      <td>0.0</td>\n",
       "      <td>0.0</td>\n",
       "      <td>0.0</td>\n",
       "      <td>0.0</td>\n",
       "      <td>0.0</td>\n",
       "      <td>0.0</td>\n",
       "      <td>0.0</td>\n",
       "      <td>0.0</td>\n",
       "      <td>...</td>\n",
       "      <td>0.0</td>\n",
       "      <td>0.0</td>\n",
       "      <td>0.0</td>\n",
       "      <td>0.0</td>\n",
       "      <td>0.0</td>\n",
       "      <td>0.0</td>\n",
       "      <td>0.0</td>\n",
       "      <td>0.0</td>\n",
       "      <td>0.0</td>\n",
       "      <td>0.0</td>\n",
       "    </tr>\n",
       "    <tr>\n",
       "      <th>9</th>\n",
       "      <td>0.0</td>\n",
       "      <td>0.000000</td>\n",
       "      <td>0.0</td>\n",
       "      <td>0.0</td>\n",
       "      <td>0.0</td>\n",
       "      <td>0.0</td>\n",
       "      <td>0.0</td>\n",
       "      <td>0.0</td>\n",
       "      <td>0.0</td>\n",
       "      <td>0.0</td>\n",
       "      <td>...</td>\n",
       "      <td>0.0</td>\n",
       "      <td>0.0</td>\n",
       "      <td>0.0</td>\n",
       "      <td>0.0</td>\n",
       "      <td>0.0</td>\n",
       "      <td>0.0</td>\n",
       "      <td>0.0</td>\n",
       "      <td>0.0</td>\n",
       "      <td>0.0</td>\n",
       "      <td>0.0</td>\n",
       "    </tr>\n",
       "  </tbody>\n",
       "</table>\n",
       "<p>10 rows × 100 columns</p>\n",
       "</div>"
      ],
      "text/plain": [
       "   century    ceplak  ceremony  ceri  certain  certainly  certainty  chabal  \\\n",
       "0      0.0  0.000000       0.0   0.0      0.0        0.0        0.0     0.0   \n",
       "1      0.0  0.000000       0.0   0.0      0.0        0.0        0.0     0.0   \n",
       "2      0.0  0.000000       0.0   0.0      0.0        0.0        0.0     0.0   \n",
       "3      0.0  0.000000       0.0   0.0      0.0        0.0        0.0     0.0   \n",
       "4      0.0  0.259386       0.0   0.0      0.0        0.0        0.0     0.0   \n",
       "5      0.0  0.000000       0.0   0.0      0.0        0.0        0.0     0.0   \n",
       "6      0.0  0.000000       0.0   0.0      0.0        0.0        0.0     0.0   \n",
       "7      0.0  0.000000       0.0   0.0      0.0        0.0        0.0     0.0   \n",
       "8      0.0  0.000000       0.0   0.0      0.0        0.0        0.0     0.0   \n",
       "9      0.0  0.000000       0.0   0.0      0.0        0.0        0.0     0.0   \n",
       "\n",
       "   chair  chairman  ...  christmas  christophe  christopher  christos  \\\n",
       "0    0.0       0.0  ...        0.0         0.0          0.0       0.0   \n",
       "1    0.0       0.0  ...        0.0         0.0          0.0       0.0   \n",
       "2    0.0       0.0  ...        0.0         0.0          0.0       0.0   \n",
       "3    0.0       0.0  ...        0.0         0.0          0.0       0.0   \n",
       "4    0.0       0.0  ...        0.0         0.0          0.0       0.0   \n",
       "5    0.0       0.0  ...        0.0         0.0          0.0       0.0   \n",
       "6    0.0       0.0  ...        0.0         0.0          0.0       0.0   \n",
       "7    0.0       0.0  ...        0.0         0.0          0.0       0.0   \n",
       "8    0.0       0.0  ...        0.0         0.0          0.0       0.0   \n",
       "9    0.0       0.0  ...        0.0         0.0          0.0       0.0   \n",
       "\n",
       "   chronicle  chuck  chuckle  chunk  churlishly  chuter  \n",
       "0        0.0    0.0      0.0    0.0         0.0     0.0  \n",
       "1        0.0    0.0      0.0    0.0         0.0     0.0  \n",
       "2        0.0    0.0      0.0    0.0         0.0     0.0  \n",
       "3        0.0    0.0      0.0    0.0         0.0     0.0  \n",
       "4        0.0    0.0      0.0    0.0         0.0     0.0  \n",
       "5        0.0    0.0      0.0    0.0         0.0     0.0  \n",
       "6        0.0    0.0      0.0    0.0         0.0     0.0  \n",
       "7        0.0    0.0      0.0    0.0         0.0     0.0  \n",
       "8        0.0    0.0      0.0    0.0         0.0     0.0  \n",
       "9        0.0    0.0      0.0    0.0         0.0     0.0  \n",
       "\n",
       "[10 rows x 100 columns]"
      ]
     },
     "execution_count": 33,
     "metadata": {},
     "output_type": "execute_result"
    }
   ],
   "source": [
    "X_df.iloc[:10,1100:1200]"
   ]
  },
  {
   "cell_type": "code",
   "execution_count": 35,
   "metadata": {},
   "outputs": [
    {
     "data": {
      "text/plain": [
       "(471, 1000)"
      ]
     },
     "execution_count": 35,
     "metadata": {},
     "output_type": "execute_result"
    }
   ],
   "source": [
    "vectorizer=TfidfVectorizer()\n",
    "vectorizer=TfidfVectorizer(max_features=1000,min_df=5,max_df=0.9)  #min_df-->words should occur atleast 5 times   \n",
    "#max_df = the word occur in each documnet should not be more than 90%\n",
    "X=vectorizer.fit_transform(clean_article)\n",
    "X.shape"
   ]
  },
  {
   "cell_type": "code",
   "execution_count": 37,
   "metadata": {},
   "outputs": [],
   "source": [
    "from sklearn.decomposition import TruncatedSVD\n",
    "\n",
    "# SVD represent documents and terms in vectors \n",
    "svd_model = TruncatedSVD(n_components=4, random_state=12, n_iter=100)"
   ]
  },
  {
   "cell_type": "code",
   "execution_count": 38,
   "metadata": {},
   "outputs": [
    {
     "data": {
      "text/plain": [
       "TruncatedSVD(algorithm='randomized', n_components=4, n_iter=100,\n",
       "       random_state=12, tol=0.0)"
      ]
     },
     "execution_count": 38,
     "metadata": {},
     "output_type": "execute_result"
    }
   ],
   "source": [
    "svd_model.fit(X)"
   ]
  },
  {
   "cell_type": "code",
   "execution_count": 41,
   "metadata": {},
   "outputs": [],
   "source": [
    "# get column names of document term matrix\n",
    "terms = vectorizer.get_feature_names()\n"
   ]
  },
  {
   "cell_type": "code",
   "execution_count": 51,
   "metadata": {},
   "outputs": [
    {
     "data": {
      "text/plain": [
       "1000"
      ]
     },
     "execution_count": 51,
     "metadata": {},
     "output_type": "execute_result"
    }
   ],
   "source": [
    "len(svd_model.components_[3])"
   ]
  },
  {
   "cell_type": "code",
   "execution_count": 55,
   "metadata": {},
   "outputs": [
    {
     "name": "stdout",
     "output_type": "stream",
     "text": [
      "Topic 0: \n",
      "['england', 'win', 'play', 'year', 'game', 'test', 'match', 'world', 'good', 'team', 'player', 'ireland', 'final', 'time', 'day', 'new', 'cricket', 'rugby', 'second', 'come', 'coach', 'france', 'set', 'open', 'injury', 'run', 'cup', 'think', 'wales', 'tour', 'australia', 'half', 'south', 'series', 'start', 'international', 'nation', 'victory', 'try', 'beat', 'champion', 'week', 'captain', 'great', 'season', 'ball', 'williams', 'robinson', 'lose', 'zealand']\n",
      "\n",
      "\n",
      "Topic 1: \n",
      "['win', 'champion', 'seed', 'indoor', 'open', 'title', 'world', 'olympic', 'race', 'final', 'set', 'year', 'european', 'roddick', 'woman', 'round', 'event', 'federer', 'beat', 'compete', 'hewitt', 'break', 'britain', 'grand', 'australian', 'record', 'birmingham', 'gold', 'american', 'agassi', 'athens', 'british', 'athlete', 'jump', 'championship', 'second', 'davenport', 'medal', 'holmes', 'tennis', 'safin', 'double', 'henman', 'slam', 'wimbledon', 'madrid', 'old', 'marathon', 'cross', 'francis']\n",
      "\n",
      "\n",
      "Topic 2: \n",
      "['england', 'ireland', 'robinson', 'wales', 'france', 'nation', 'rugby', 'half', 'scotland', 'italy', 'wale', 'try', 'kick', 'williams', 'game', 'coach', 'penalty', 'wilkinson', 'bath', 'leicester', 'hodgson', 'centre', 'gara', 'player', 'driscoll', 'lion', 'irish', 'henson', 'ruddock', 'injury', 'andy', 'barkley', 'referee', 'stade', 'lewsey', 'cueto', 'scrum', 'thomas', 'wing', 'fly', 'laporte', 'flanker', 'woodward', 'cardiff', 'twickenham', 'sale', 'welsh', 'slam', 'gloucester', 'line']\n",
      "\n",
      "\n",
      "Topic 3: \n",
      "['kenteris', 'greek', 'thanou', 'iaaf', 'drug', 'athens', 'olympic', 'athlete', 'charge', 'olympics', 'ban', 'sprinter', 'dope', 'england', 'miss', 'test', 'indoor', 'tribunal', 'race', 'decision', 'european', 'athletics', 'federation', 'trial', 'medal', 'robinson', 'sport', 'athletic', 'ireland', 'rugby', 'evidence', 'marathon', 'suspend', 'gold', 'compete', 'radcliffe', 'birmingham', 'conte', 'kostas', 'pair', 'balco', 'holmes', 'coach', 'record', 'training', 'wales', 'rule', 'nation', 'case', 'appeal']\n",
      "\n",
      "\n"
     ]
    }
   ],
   "source": [
    "for i, comp in enumerate(svd_model.components_):\n",
    "    terms_comp = zip(terms, comp)\n",
    "    \n",
    "    sorted_terms = sorted(terms_comp, key= lambda x:x[1], reverse=True)[:50]\n",
    "    #print(sorted_terms)\n",
    "    \n",
    "    print(\"Topic \"+str(i)+\": \")\n",
    "    topics = []\n",
    "    for t in sorted_terms:\n",
    "        topics.append(t[0])\n",
    "    \n",
    "    print(topics)\n",
    "    print('\\n')"
   ]
  },
  {
   "cell_type": "code",
   "execution_count": null,
   "metadata": {},
   "outputs": [],
   "source": []
  }
 ],
 "metadata": {
  "kernelspec": {
   "display_name": "Python 3",
   "language": "python",
   "name": "python3"
  },
  "language_info": {
   "codemirror_mode": {
    "name": "ipython",
    "version": 3
   },
   "file_extension": ".py",
   "mimetype": "text/x-python",
   "name": "python",
   "nbconvert_exporter": "python",
   "pygments_lexer": "ipython3",
   "version": "3.7.3"
  }
 },
 "nbformat": 4,
 "nbformat_minor": 2
}
